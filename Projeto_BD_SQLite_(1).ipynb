{
  "cells": [
    {
      "cell_type": "markdown",
      "metadata": {
        "id": "view-in-github",
        "colab_type": "text"
      },
      "source": [
        "<a href=\"https://colab.research.google.com/github/Edgarmartins16/projeto-bd-colab/blob/main/Projeto_BD_SQLite_(1).ipynb\" target=\"_parent\"><img src=\"https://colab.research.google.com/assets/colab-badge.svg\" alt=\"Open In Colab\"/></a>"
      ]
    },
    {
      "cell_type": "markdown",
      "id": "4ed1381b",
      "metadata": {
        "id": "4ed1381b"
      },
      "source": [
        "# PROJETO-BD-SQLITE\n",
        "### Criação e Manipulação de Banco de Dados com SQLite no Google Colab"
      ]
    },
    {
      "cell_type": "code",
      "execution_count": 12,
      "id": "57e78631",
      "metadata": {
        "colab": {
          "base_uri": "https://localhost:8080/"
        },
        "id": "57e78631",
        "outputId": "a254a171-1f28-4736-ee6a-c49bbf4b0ef3"
      },
      "outputs": [
        {
          "output_type": "execute_result",
          "data": {
            "text/plain": [
              "<sqlite3.Cursor at 0x7ced6b2a0c40>"
            ]
          },
          "metadata": {},
          "execution_count": 12
        }
      ],
      "source": [
        "# Seção 1: Importar bibliotecas e conectar ao banco\n",
        "import sqlite3\n",
        "\n",
        "conn = sqlite3.connect(':memory:')  # ou use 'projeto.db' para salvar em arquivo\n",
        "cursor = conn.cursor()\n",
        "\n",
        "# Habilitar uso de chaves estrangeiras\n",
        "cursor.execute(\"PRAGMA foreign_keys = ON;\")"
      ]
    },
    {
      "cell_type": "code",
      "execution_count": null,
      "id": "165959e0",
      "metadata": {
        "id": "165959e0"
      },
      "outputs": [],
      "source": [
        "# Seção 2: Criação das tabelas\n",
        "cursor.execute('''\n",
        "    CREATE TABLE IF NOT EXISTS pessoas (\n",
        "        id INTEGER PRIMARY KEY AUTOINCREMENT,\n",
        "        nome TEXT NOT NULL,\n",
        "        idade INTEGER\n",
        "    );\n",
        "''')\n",
        "\n",
        "cursor.execute('''\n",
        "    CREATE TABLE IF NOT EXISTS produtos (\n",
        "        id INTEGER PRIMARY KEY AUTOINCREMENT,\n",
        "        descricao TEXT NOT NULL,\n",
        "        estoque INTEGER,\n",
        "        preco REAL\n",
        "    );\n",
        "''')\n",
        "\n",
        "cursor.execute('''\n",
        "    CREATE TABLE IF NOT EXISTS vendas (\n",
        "        id_venda INTEGER PRIMARY KEY AUTOINCREMENT,\n",
        "        id_pessoa INTEGER,\n",
        "        id_produto INTEGER,\n",
        "        quantidade INTEGER,\n",
        "        FOREIGN KEY (id_pessoa) REFERENCES pessoas(id),\n",
        "        FOREIGN KEY (id_produto) REFERENCES produtos(id)\n",
        "    );\n",
        "''')\n",
        "\n",
        "conn.commit()"
      ]
    },
    {
      "cell_type": "code",
      "execution_count": null,
      "id": "765ddd5a",
      "metadata": {
        "id": "765ddd5a"
      },
      "outputs": [],
      "source": [
        "# Seção 3: Inserção de dados\n",
        "cursor.executemany(\"INSERT INTO pessoas (nome, idade) VALUES (?, ?);\", [\n",
        "    ('Maria', 30),\n",
        "    ('João', 25),\n",
        "    ('Ana', 40)\n",
        "])\n",
        "\n",
        "cursor.executemany(\"INSERT INTO produtos (descricao, estoque, preco) VALUES (?, ?, ?);\", [\n",
        "    ('Caneta', 100, 1.50),\n",
        "    ('Caderno', 50, 6.50),\n",
        "    ('Lápis', 200, 0.80)\n",
        "])\n",
        "\n",
        "conn.commit()"
      ]
    },
    {
      "cell_type": "code",
      "execution_count": null,
      "id": "0f4ca8b7",
      "metadata": {
        "colab": {
          "base_uri": "https://localhost:8080/"
        },
        "id": "0f4ca8b7",
        "outputId": "05806f13-1ae1-4682-a541-3f3bbc78f893"
      },
      "outputs": [
        {
          "output_type": "stream",
          "name": "stdout",
          "text": [
            "Relatório de Vendas:\n",
            "Venda 1: Maria comprou 10 x Caneta\n",
            "Venda 2: João comprou 2 x Caderno\n",
            "Venda 3: Maria comprou 5 x Lápis\n"
          ]
        }
      ],
      "source": [
        "# Seção 4: Inserir vendas e consultar\n",
        "cursor.executemany(\"INSERT INTO vendas (id_pessoa, id_produto, quantidade) VALUES (?, ?, ?);\", [\n",
        "    (1, 1, 10),  # Maria comprou 10 canetas\n",
        "    (2, 2, 2),   # João comprou 2 cadernos\n",
        "    (1, 3, 5)    # Maria comprou 5 lápis\n",
        "])\n",
        "\n",
        "conn.commit()\n",
        "\n",
        "# Consulta JOIN\n",
        "cursor.execute('''\n",
        "    SELECT v.id_venda, p.nome, pr.descricao, v.quantidade\n",
        "    FROM vendas v\n",
        "    JOIN pessoas p ON v.id_pessoa = p.id\n",
        "    JOIN produtos pr ON v.id_produto = pr.id;\n",
        "''')\n",
        "\n",
        "resultados = cursor.fetchall()\n",
        "\n",
        "print(\"Relatório de Vendas:\")\n",
        "for linha in resultados:\n",
        "    print(f\"Venda {linha[0]}: {linha[1]} comprou {linha[3]} x {linha[2]}\")"
      ]
    },
    {
      "cell_type": "code",
      "execution_count": null,
      "id": "c272b374",
      "metadata": {
        "id": "c272b374"
      },
      "outputs": [],
      "source": [
        "# Seção 5: Fechar conexão\n",
        "conn.close()"
      ]
    }
  ],
  "metadata": {
    "colab": {
      "provenance": [],
      "include_colab_link": true
    },
    "language_info": {
      "name": "python"
    },
    "kernelspec": {
      "name": "python3",
      "display_name": "Python 3"
    }
  },
  "nbformat": 4,
  "nbformat_minor": 5
}